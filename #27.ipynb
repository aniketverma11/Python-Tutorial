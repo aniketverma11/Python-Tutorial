{
 "cells": [
  {
   "cell_type": "code",
   "execution_count": 6,
   "source": [
    "#Array Value from user in python\n",
    "from array import *\n",
    "\n",
    "arr = array('i', [])\n",
    "\n",
    "Length = int(input(\"Enter the lenght: \"))\n",
    "\n",
    "for i in range(Length):\n",
    "    x = int(input(\"Enter the value: \"))\n",
    "    arr.append(x)\n",
    "print(arr)\n",
    "\n",
    "val = int(input(\"Enter the searching element: \"))\n",
    "k = 0\n",
    "for j in (arr):\n",
    "    if j == val:\n",
    "        print(k)\n",
    "        break\n",
    "    k += 1\n"
   ],
   "outputs": [
    {
     "output_type": "error",
     "ename": "ValueError",
     "evalue": "invalid literal for int() with base 10: ''",
     "traceback": [
      "\u001b[0;31m---------------------------------------------------------------------------\u001b[0m",
      "\u001b[0;31mValueError\u001b[0m                                Traceback (most recent call last)",
      "\u001b[0;32m<ipython-input-6-f0c36211c629>\u001b[0m in \u001b[0;36m<module>\u001b[0;34m\u001b[0m\n\u001b[1;32m      7\u001b[0m \u001b[0;34m\u001b[0m\u001b[0m\n\u001b[1;32m      8\u001b[0m \u001b[0;32mfor\u001b[0m \u001b[0mi\u001b[0m \u001b[0;32min\u001b[0m \u001b[0mrange\u001b[0m\u001b[0;34m(\u001b[0m\u001b[0mLength\u001b[0m\u001b[0;34m)\u001b[0m\u001b[0;34m:\u001b[0m\u001b[0;34m\u001b[0m\u001b[0;34m\u001b[0m\u001b[0m\n\u001b[0;32m----> 9\u001b[0;31m     \u001b[0mx\u001b[0m \u001b[0;34m=\u001b[0m \u001b[0mint\u001b[0m\u001b[0;34m(\u001b[0m\u001b[0minput\u001b[0m\u001b[0;34m(\u001b[0m\u001b[0;34m\"Enter the value: \"\u001b[0m\u001b[0;34m)\u001b[0m\u001b[0;34m)\u001b[0m\u001b[0;34m\u001b[0m\u001b[0;34m\u001b[0m\u001b[0m\n\u001b[0m\u001b[1;32m     10\u001b[0m     \u001b[0marr\u001b[0m\u001b[0;34m.\u001b[0m\u001b[0mappend\u001b[0m\u001b[0;34m(\u001b[0m\u001b[0mx\u001b[0m\u001b[0;34m)\u001b[0m\u001b[0;34m\u001b[0m\u001b[0;34m\u001b[0m\u001b[0m\n\u001b[1;32m     11\u001b[0m \u001b[0mprint\u001b[0m\u001b[0;34m(\u001b[0m\u001b[0marr\u001b[0m\u001b[0;34m)\u001b[0m\u001b[0;34m\u001b[0m\u001b[0;34m\u001b[0m\u001b[0m\n",
      "\u001b[0;31mValueError\u001b[0m: invalid literal for int() with base 10: ''"
     ]
    }
   ],
   "metadata": {}
  },
  {
   "cell_type": "code",
   "execution_count": 7,
   "source": [
    "#numpy for multidimentional Array\n",
    "from numpy import *\n",
    "arr = array([1,2,3,4,5,6,7])\n",
    "arr1 = array([1,2,3,4,5,6,7.5])\n",
    "print(arr.dtype)\n",
    "print(arr1.dtype)"
   ],
   "outputs": [
    {
     "output_type": "stream",
     "name": "stdout",
     "text": [
      "int64\n",
      "float64\n"
     ]
    }
   ],
   "metadata": {
    "scrolled": true
   }
  },
  {
   "cell_type": "code",
   "execution_count": null,
   "source": [
    "ar = linspace(0,15,16)\n",
    "print(ar)"
   ],
   "outputs": [
    {
     "output_type": "stream",
     "name": "stdout",
     "text": [
      "[ 0.  1.  2.  3.  4.  5.  6.  7.  8.  9. 10. 11. 12. 13. 14. 15.]\n"
     ]
    }
   ],
   "metadata": {}
  },
  {
   "cell_type": "code",
   "execution_count": null,
   "source": [
    "ar = linspace(5,16,20)\n",
    "print(ar)"
   ],
   "outputs": [
    {
     "output_type": "stream",
     "name": "stdout",
     "text": [
      "[ 5.          5.57894737  6.15789474  6.73684211  7.31578947  7.89473684\n",
      "  8.47368421  9.05263158  9.63157895 10.21052632 10.78947368 11.36842105\n",
      " 11.94736842 12.52631579 13.10526316 13.68421053 14.26315789 14.84210526\n",
      " 15.42105263 16.        ]\n"
     ]
    }
   ],
   "metadata": {}
  },
  {
   "cell_type": "code",
   "execution_count": null,
   "source": [
    "arr = arange(1,20,2)\n",
    "print(arr)"
   ],
   "outputs": [
    {
     "output_type": "stream",
     "name": "stdout",
     "text": [
      "[ 1  3  5  7  9 11 13 15 17 19]\n"
     ]
    }
   ],
   "metadata": {}
  },
  {
   "cell_type": "code",
   "execution_count": null,
   "source": [
    "arr = logspace(1,40,5)\n",
    "print('%.2f' %arr[1])"
   ],
   "outputs": [
    {
     "output_type": "stream",
     "name": "stdout",
     "text": [
      "56234132519.03\n"
     ]
    }
   ],
   "metadata": {}
  },
  {
   "cell_type": "code",
   "execution_count": null,
   "source": [],
   "outputs": [],
   "metadata": {}
  },
  {
   "cell_type": "code",
   "execution_count": 4,
   "source": [
    "from numpy import *\n",
    "arr1 = array([\n",
    "                [1,2,3,4],\n",
    "                [5,6,7,7]\n",
    "\n",
    "\n",
    "             ])\n",
    "print(arr1)"
   ],
   "outputs": [
    {
     "output_type": "stream",
     "name": "stdout",
     "text": [
      "[[1 2 3 4]\n",
      " [5 6 7 7]]\n"
     ]
    }
   ],
   "metadata": {}
  },
  {
   "cell_type": "code",
   "execution_count": 8,
   "source": [
    "from numpy import *\n",
    "arr1 = array([\n",
    "                [1,2,3,4],\n",
    "                [5,6,7,7]\n",
    "\n",
    "\n",
    "\n",
    "             ])\n",
    "arr2 = arr1.flatten()\n",
    "            \n",
    "print(arr2.dtype)\n",
    "print(arr2.shape)\n",
    "print(arr2.ndim)\n",
    "print(arr2)"
   ],
   "outputs": [
    {
     "output_type": "stream",
     "name": "stdout",
     "text": [
      "int64\n",
      "(8,)\n",
      "1\n",
      "[1 2 3 4 5 6 7 7]\n"
     ]
    }
   ],
   "metadata": {}
  },
  {
   "cell_type": "code",
   "execution_count": 14,
   "source": [
    "from numpy import *\n",
    "arr1 = array([\n",
    "                [1,2,3,4,5,9],\n",
    "                [5,6,7,7,8,0]\n",
    "             \n",
    "             \n",
    "             ])\n",
    "arr2 = arr1.flatten()\n",
    "arr3 = arr2.reshape(3,4)\n",
    "print(arr3)\n",
    "\n",
    "arr4 = arr2.reshape(2,2,3)\n",
    "print(arr4)\n"
   ],
   "outputs": [
    {
     "output_type": "stream",
     "name": "stdout",
     "text": [
      "[[1 2 3 4]\n",
      " [5 9 5 6]\n",
      " [7 7 8 0]]\n",
      "[[[1 2 3]\n",
      "  [4 5 9]]\n",
      "\n",
      " [[5 6 7]\n",
      "  [7 8 0]]]\n"
     ]
    }
   ],
   "metadata": {}
  },
  {
   "cell_type": "code",
   "execution_count": 1,
   "source": [
    "from numpy import *\n",
    "m = matrix('1,2 ; 3,4 ; 5,6')\n",
    "print((m))"
   ],
   "outputs": [
    {
     "output_type": "stream",
     "name": "stdout",
     "text": [
      "[[1 2]\n",
      " [3 4]\n",
      " [5 6]]\n"
     ]
    }
   ],
   "metadata": {}
  },
  {
   "cell_type": "markdown",
   "source": [
    "Functions in python"
   ],
   "metadata": {}
  },
  {
   "cell_type": "code",
   "execution_count": 2,
   "source": [
    "def update(lst):\n",
    "    print(id(lst))\n",
    "\n",
    "    lst[1] = 25\n",
    "    print(id(lst))\n",
    "    print(\"x \", lst)\n",
    "    pass\n",
    "\n",
    "lst = [10,20,30]\n",
    "print(id(lst))\n",
    "update(lst)\n",
    "print(\"lst \", lst)"
   ],
   "outputs": [
    {
     "output_type": "stream",
     "name": "stdout",
     "text": [
      "140152209313344\n",
      "140152209313344\n",
      "140152209313344\n",
      "x  [10, 25, 30]\n",
      "lst  [10, 25, 30]\n"
     ]
    }
   ],
   "metadata": {}
  },
  {
   "cell_type": "code",
   "execution_count": 12,
   "source": [
    "#different types of arguments in python\n",
    "#multiple arguments from the user\n",
    "def person(name, **data):\n",
    "    print(name)\n",
    "    print(data)\n",
    "    for i,j in data.items():\n",
    "        print(i,j)\n",
    "person('Aniket',age=21, city='Muzaffarnagar',mob=8491062)"
   ],
   "outputs": [
    {
     "output_type": "stream",
     "name": "stdout",
     "text": [
      "Aniket\n",
      "{'age': 21, 'city': 'Muzaffarnagar', 'mob': 8491062}\n",
      "age 21\n",
      "city Muzaffarnagar\n",
      "mob 8491062\n"
     ]
    }
   ],
   "metadata": {}
  },
  {
   "cell_type": "code",
   "execution_count": 14,
   "source": [
    "a=9\n",
    "print(id(a))\n",
    "\n",
    "def something():\n",
    "    a=10\n",
    "\n",
    "    x = globals()['a']\n",
    "    print(id(x))\n",
    "    print(\"in\", a)\n",
    "\n",
    "    globals()['a'] = 15\n",
    "\n",
    "something()\n",
    "print(\"out\", a)"
   ],
   "outputs": [
    {
     "output_type": "stream",
     "name": "stdout",
     "text": [
      "9788864\n",
      "9788864\n",
      "in 10\n",
      "out 15\n"
     ]
    }
   ],
   "metadata": {}
  },
  {
   "cell_type": "code",
   "execution_count": 15,
   "source": [
    "#pass list to a function\n",
    "def count(int):\n",
    "    even = 0\n",
    "    odd = 0\n",
    "    for i in lst:\n",
    "        if i%2==0:\n",
    "            even +=1\n",
    "        else:\n",
    "            odd += 1\n",
    "    return even, odd\n",
    "\n",
    " \n",
    "lst = [20,25,30,35,40,45,50,55]\n",
    "even, odd = count(lst)\n",
    "print(even, odd)"
   ],
   "outputs": [
    {
     "output_type": "stream",
     "name": "stdout",
     "text": [
      "4 4\n"
     ]
    }
   ],
   "metadata": {}
  },
  {
   "cell_type": "code",
   "execution_count": 29,
   "source": [
    "\n",
    "def count(str):\n",
    "    string = []\n",
    "    for i in lst:\n",
    "        if len(i) == k:\n",
    "            string.append(i)\n",
    "\n",
    "    \n",
    "    return string\n",
    "        \n",
    "k = 5\n",
    "lst = [\"Aniket\", \"Verma\", \"Banana\", \"Mango\"]\n",
    "name = count(lst)\n",
    "print(name)"
   ],
   "outputs": [
    {
     "output_type": "stream",
     "name": "stdout",
     "text": [
      "['Verma', 'Mango']\n"
     ]
    }
   ],
   "metadata": {}
  },
  {
   "cell_type": "code",
   "execution_count": 1,
   "source": [
    "#fibonacci series\n",
    "\n",
    "def fib(n):\n",
    "    a = 0\n",
    "    b = 1\n",
    "    for i in range(2,n):\n",
    "        c = a+b\n",
    "        a,b = b,c\n",
    "        if c <= 100:\n",
    "            print(c)\n",
    "            \n",
    "\n",
    "\n",
    "fib(100)"
   ],
   "outputs": [
    {
     "output_type": "stream",
     "name": "stdout",
     "text": [
      "1\n",
      "2\n",
      "3\n",
      "5\n",
      "8\n",
      "13\n",
      "21\n",
      "34\n",
      "55\n",
      "89\n"
     ]
    }
   ],
   "metadata": {}
  },
  {
   "cell_type": "code",
   "execution_count": 25,
   "source": [
    "#factorial number via recurssion\n",
    "def fact(n):\n",
    "    if n ==1:\n",
    "        return 1\n",
    "    else:\n",
    "        return n * fact(n-1)#function call itself\n",
    "\n",
    "pn = fact(5)\n",
    "print(pn)"
   ],
   "outputs": [
    {
     "output_type": "stream",
     "name": "stdout",
     "text": [
      "120\n"
     ]
    }
   ],
   "metadata": {}
  },
  {
   "cell_type": "code",
   "execution_count": 5,
   "source": [
    "import sys\n",
    "sys.setrecursionlimit(2000)\n",
    "print(sys.getrecursionlimit())\n",
    "i = 0\n",
    "def greet():\n",
    "    global i\n",
    "    print('Hello!', i)\n",
    "    i+=1\n",
    "    \n",
    "greet()\n",
    "\n"
   ],
   "outputs": [
    {
     "output_type": "stream",
     "name": "stdout",
     "text": [
      "2000\n",
      "Hello! 0\n"
     ]
    }
   ],
   "metadata": {}
  },
  {
   "cell_type": "code",
   "execution_count": 32,
   "source": [
    "import sys\n",
    "sys.stdout.write(\"Hello, World!\")"
   ],
   "outputs": [
    {
     "output_type": "stream",
     "name": "stdout",
     "text": [
      "Hello, World!"
     ]
    }
   ],
   "metadata": {}
  },
  {
   "cell_type": "code",
   "execution_count": 34,
   "source": [
    "#lamda function\n",
    "f = lambda a,b : a+b #a,b are the argumentss which is passes by the user and this function can take merely one operation at particuler time\n",
    "print(f(5,6))"
   ],
   "outputs": [
    {
     "output_type": "stream",
     "name": "stdout",
     "text": [
      "11\n"
     ]
    }
   ],
   "metadata": {}
  },
  {
   "cell_type": "code",
   "execution_count": 39,
   "source": [
    "a = (1,2,3,5,4)\n",
    "b = (2,5,6,8,9)\n",
    "c = dict(zip(a,b))\n",
    "print(c)"
   ],
   "outputs": [
    {
     "output_type": "stream",
     "name": "stdout",
     "text": [
      "{1: 2, 2: 5, 3: 6, 5: 8, 4: 9}\n"
     ]
    }
   ],
   "metadata": {}
  },
  {
   "cell_type": "code",
   "execution_count": 54,
   "source": [
    "#rivision\n",
    "def palindrom(n):\n",
    "    rev = 0\n",
    "    a = n\n",
    "    while n > 0:\n",
    "        m = n % 10\n",
    "        rev = rev*10+m\n",
    "        n//=10\n",
    "    \n",
    "    print(rev)\n",
    "\n",
    "palindrom(965)"
   ],
   "outputs": [
    {
     "output_type": "stream",
     "name": "stdout",
     "text": [
      "569\n"
     ]
    }
   ],
   "metadata": {}
  },
  {
   "cell_type": "code",
   "execution_count": 48,
   "source": [
    "def Armstrong(n):\n",
    "    sum = 0\n",
    "    x = n\n",
    "    while n>0: \n",
    "        a = n%10\n",
    "        sum = sum  + a**3\n",
    "        n//=10\n",
    "    if sum==x:\n",
    "        print (\"Number is Armstrong\")\n",
    "        return sum\n",
    "    else:\n",
    "        print(\"number is not Armstrong\")\n",
    "n = 5668\n",
    "result = Armstrong(n)\n",
    "print(\"Armstrong number is: \", Armstrong(n))"
   ],
   "outputs": [
    {
     "output_type": "stream",
     "name": "stdout",
     "text": [
      "number is not Armstrong\n",
      "number is not Armstrong\n",
      "Armstrong number is:  None\n"
     ]
    }
   ],
   "metadata": {}
  },
  {
   "cell_type": "code",
   "execution_count": 1,
   "source": [
    "#lambda function\n",
    "nums = [1,2,3,4,5,6,7,8,9]\n",
    "evens = list(filter(lambda n : n%2 == 0, nums))#we use filter\n",
    "print(evens)\n",
    "odds = list(filter(lambda n : n%2!=0, nums))\n",
    "print(odds)\n",
    "double = list(map(lambda n : n*2, evens))\n",
    "print(double)\n",
    "from functools import reduce\n",
    "sum = reduce(lambda a,b : a+b, double)\n",
    "print(sum)"
   ],
   "outputs": [
    {
     "output_type": "stream",
     "name": "stdout",
     "text": [
      "[2, 4, 6, 8]\n",
      "[1, 3, 5, 7, 9]\n",
      "[4, 8, 12, 16]\n",
      "40\n"
     ]
    }
   ],
   "metadata": {}
  },
  {
   "cell_type": "code",
   "execution_count": 2,
   "source": [
    "#decorators\n",
    "def div(a,b):\n",
    "    print(a/b)\n",
    "\n",
    "def smart_div(func):\n",
    "    def inner(a,b):\n",
    "        if a<b:\n",
    "            a,b = b,a\n",
    "        return func(a,b)\n",
    "    return inner\n",
    "\n",
    "div = smart_div(div)\n",
    "div(2,4)\n"
   ],
   "outputs": [
    {
     "output_type": "stream",
     "name": "stdout",
     "text": [
      "2.0\n"
     ]
    }
   ],
   "metadata": {}
  },
  {
   "cell_type": "code",
   "execution_count": null,
   "source": [],
   "outputs": [],
   "metadata": {}
  }
 ],
 "metadata": {
  "kernelspec": {
   "name": "python3",
   "display_name": "Python 3.8.10 64-bit"
  },
  "language_info": {
   "codemirror_mode": {
    "name": "ipython",
    "version": 3
   },
   "file_extension": ".py",
   "mimetype": "text/x-python",
   "name": "python",
   "nbconvert_exporter": "python",
   "pygments_lexer": "ipython3",
   "version": "3.8.10"
  },
  "interpreter": {
   "hash": "916dbcbb3f70747c44a77c7bcd40155683ae19c65e1c03b4aa3499c5328201f1"
  }
 },
 "nbformat": 4,
 "nbformat_minor": 4
}